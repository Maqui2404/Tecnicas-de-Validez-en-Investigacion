{
 "cells": [
  {
   "cell_type": "markdown",
   "metadata": {},
   "source": [
    "# Análisis Factorial Exploratorio (EFA)"
   ]
  },
  {
   "cell_type": "markdown",
   "metadata": {},
   "source": [
    "## Cuestionario de Bienestar Psicológico"
   ]
  },
  {
   "cell_type": "markdown",
   "metadata": {},
   "source": [
    "Un equipo de psicólogos desarrolló un cuestionario para evaluar el bienestar psicológico en adultos, incluyendo dimensiones como satisfacción con la vida, afecto positivo y afecto negativo. Usaron EFA para identificar estas dimensiones."
   ]
  },
  {
   "cell_type": "markdown",
   "metadata": {},
   "source": [
    "## Ejemplo"
   ]
  },
  {
   "cell_type": "code",
   "execution_count": 8,
   "metadata": {},
   "outputs": [
    {
     "name": "stdout",
     "output_type": "stream",
     "text": [
      "Requirement already satisfied: factor_analyzer in d:\\coco\\lib\\site-packages (0.5.1)\n",
      "Requirement already satisfied: pandas in d:\\coco\\lib\\site-packages (from factor_analyzer) (2.0.3)\n",
      "Requirement already satisfied: scipy in d:\\coco\\lib\\site-packages (from factor_analyzer) (1.13.1)\n",
      "Requirement already satisfied: numpy in d:\\coco\\lib\\site-packages (from factor_analyzer) (1.26.4)\n",
      "Requirement already satisfied: scikit-learn in d:\\coco\\lib\\site-packages (from factor_analyzer) (1.3.0)\n",
      "Requirement already satisfied: python-dateutil>=2.8.2 in d:\\coco\\lib\\site-packages (from pandas->factor_analyzer) (2.9.0.post0)\n",
      "Requirement already satisfied: pytz>=2020.1 in d:\\coco\\lib\\site-packages (from pandas->factor_analyzer) (2023.3.post1)\n",
      "Requirement already satisfied: tzdata>=2022.1 in d:\\coco\\lib\\site-packages (from pandas->factor_analyzer) (2023.3)\n",
      "Requirement already satisfied: joblib>=1.1.1 in d:\\coco\\lib\\site-packages (from scikit-learn->factor_analyzer) (1.2.0)\n",
      "Requirement already satisfied: threadpoolctl>=2.0.0 in d:\\coco\\lib\\site-packages (from scikit-learn->factor_analyzer) (2.2.0)\n",
      "Requirement already satisfied: six>=1.5 in d:\\coco\\lib\\site-packages (from python-dateutil>=2.8.2->pandas->factor_analyzer) (1.16.0)\n",
      "[[ 0.22030073  0.80212151  0.19618332]\n",
      " [-0.18841223  0.82431363 -0.18480823]\n",
      " [ 0.99811459  0.01012069  0.04783328]\n",
      " [ 0.99797277  0.00647459  0.05133213]\n",
      " [ 0.99753929  0.00695571  0.05977996]\n",
      " [ 0.99787348  0.01260004  0.05239551]]\n"
     ]
    },
    {
     "data": {
      "image/png": "[encoded data removed]",
      "text/plain": [
       "<Figure size 640x480 with 1 Axes>"
      ]
     },
     "metadata": {},
     "output_type": "display_data"
    }
   ],
   "source": [
    "# Importar las librerías necesarias\n",
    "import pandas as pd\n",
    "from factor_analyzer import FactorAnalyzer\n",
    "import matplotlib.pyplot as plt\n",
    "\n",
    "# Datos reales simulados\n",
    "data = pd.DataFrame({\n",
    "    'Sat_Life1': [4, 3, 5, 2, 4, 5, 3, 4, 2, 3, 4, 5, 3, 4, 2, 5, 3, 4, 3, 2],\n",
    "    'Sat_Life2': [5, 4, 4, 3, 4, 4, 3, 5, 3, 4, 4, 4, 4, 3, 3, 4, 4, 4, 3, 3],\n",
    "    'Pos_Affect1': [6, 7, 8, 7, 6, 7, 8, 6, 7, 6, 7, 8, 7, 6, 7, 8, 6, 7, 6, 7],\n",
    "    'Pos_Affect2': [5, 6, 7, 6, 5, 6, 7, 5, 6, 5, 6, 7, 6, 5, 6, 7, 5, 6, 5, 6],\n",
    "    'Neg_Affect1': [2, 3, 4, 3, 2, 3, 4, 2, 3, 2, 3, 4, 3, 2, 3, 4, 2, 3, 2, 3],\n",
    "    'Neg_Affect2': [1, 2, 3, 2, 1, 2, 3, 1, 2, 1, 2, 3, 2, 1, 2, 3, 1, 2, 1, 2]\n",
    "})\n",
    "\n",
    "# Realizar el EFA\n",
    "fa = FactorAnalyzer(n_factors=3, rotation='varimax')\n",
    "fa.fit(data)\n",
    "\n",
    "# Cargar factoriales\n",
    "loadings = fa.loadings_\n",
    "print(loadings)\n",
    "\n",
    "# Gráfico de las cargas factoriales\n",
    "plt.scatter(loadings[:, 0], loadings[:, 1])\n",
    "plt.title('Cargas Factoriales')\n",
    "plt.xlabel('Factor 1')\n",
    "plt.ylabel('Factor 2')\n",
    "plt.grid()\n",
    "plt.show()\n"
   ]
  },
  {
   "cell_type": "markdown",
   "metadata": {},
   "source": [
    "El análisis factorial exploratorio (EFA) realizado sobre el cuestionario de bienestar psicológico revela una estructura factorial clara, con dos factores principales bien definidos: afecto (positivo y negativo) y satisfacción con la vida. Las cargas factoriales extremadamente altas para los ítems de afecto sugieren una fuerte relación con este factor, mientras que los ítems de satisfacción con la vida muestran altas cargas en el segundo factor. Sin embargo, la presencia de un tercer factor con cargas más bajas indica una posible varianza menor y requiere una revisión adicional. Estos resultados son generalmente positivos y confirman la validez de los factores identificados, aunque se recomienda realizar un análisis factorial confirmatorio (CFA) para validar estos hallazgos y revisar la posible multicolinealidad entre los ítems de afecto."
   ]
  },
  {
   "cell_type": "markdown",
   "metadata": {},
   "source": [
    "# ANÁLISIS FACTORIAL CONRIMATORIO (CFA)"
   ]
  },
  {
   "cell_type": "markdown",
   "metadata": {},
   "source": [
    "## Validación de un Modelo Teórico de Competencias Matemáticas"
   ]
  },
  {
   "cell_type": "markdown",
   "metadata": {},
   "source": [
    "En educación, los investigadores desarrollaron un modelo teórico que postula que las competencias matemáticas se dividen en álgebra, geometría y aritmética. Utilizaron el CFA para validar este modelo teórico."
   ]
  },
  {
   "cell_type": "markdown",
   "metadata": {},
   "source": [
    "## Ejemplo"
   ]
  },
  {
   "cell_type": "code",
   "execution_count": 9,
   "metadata": {},
   "outputs": [
    {
     "name": "stderr",
     "output_type": "stream",
     "text": [
      "WARNING:root:Sample covariance matrix is not PD. It may indicate that data is bad. Also, it arises often when polychoric/polyserial correlations are used. semopy now will run nearPD subroutines.\n"
     ]
    },
    {
     "name": "stdout",
     "output_type": "stream",
     "text": [
      "           lval  op         rval  Estimate  Std. Err    z-value   p-value\n",
      "0      Algebra1   ~      Algebra  1.000000         -          -         -\n",
      "1      Algebra2   ~      Algebra  1.000019  0.031687  31.558873       0.0\n",
      "2     Geometry1   ~     Geometry  1.000000         -          -         -\n",
      "3     Geometry2   ~     Geometry  0.999922  0.031686   31.55771       0.0\n",
      "4   Arithmetic1   ~   Arithmetic  1.000000         -          -         -\n",
      "5   Arithmetic2   ~   Arithmetic  1.000071  0.031691  31.556836       0.0\n",
      "6       Algebra  ~~      Algebra  1.980249  0.632474   3.130958  0.001742\n",
      "7       Algebra  ~~   Arithmetic  1.980188  0.629325   3.146528  0.001652\n",
      "8       Algebra  ~~     Geometry  1.980374  0.629386   3.146518  0.001652\n",
      "9    Arithmetic  ~~   Arithmetic  1.980109  0.632429   3.130959  0.001742\n",
      "10     Geometry  ~~     Geometry  1.980509  0.632556   3.130962  0.001742\n",
      "11     Geometry  ~~   Arithmetic  1.980305  0.629364   3.146518  0.001652\n",
      "12     Algebra1  ~~     Algebra1  0.019833  0.008296    2.39067  0.016818\n",
      "13     Algebra2  ~~     Algebra2  0.019834  0.008296   2.390645  0.016819\n",
      "14  Arithmetic1  ~~  Arithmetic1  0.019832  0.008296   2.390591  0.016821\n",
      "15  Arithmetic2  ~~  Arithmetic2  0.019840  0.008298   2.390863  0.016809\n",
      "16    Geometry1  ~~    Geometry1  0.019833  0.008299   2.389803  0.016857\n",
      "17    Geometry2  ~~    Geometry2  0.019838    0.0083   2.390175   0.01684\n"
     ]
    }
   ],
   "source": [
    "# Importar las librerías necesarias\n",
    "import pandas as pd\n",
    "import numpy as np\n",
    "from semopy import Model\n",
    "\n",
    "# Datos reales simulados\n",
    "data = pd.DataFrame({\n",
    "    'Algebra1': [4, 5, 6, 7, 8, 4, 5, 6, 7, 8, 4, 5, 6, 7, 8, 4, 5, 6, 7, 8],\n",
    "    'Algebra2': [5, 6, 7, 8, 9, 5, 6, 7, 8, 9, 5, 6, 7, 8, 9, 5, 6, 7, 8, 9],\n",
    "    'Geometry1': [6, 7, 8, 9, 10, 6, 7, 8, 9, 10, 6, 7, 8, 9, 10, 6, 7, 8, 9, 10],\n",
    "    'Geometry2': [7, 8, 9, 10, 11, 7, 8, 9, 10, 11, 7, 8, 9, 10, 11, 7, 8, 9, 10, 11],\n",
    "    'Arithmetic1': [8, 9, 10, 11, 12, 8, 9, 10, 11, 12, 8, 9, 10, 11, 12, 8, 9, 10, 11, 12],\n",
    "    'Arithmetic2': [9, 10, 11, 12, 13, 9, 10, 11, 12, 13, 9, 10, 11, 12, 13, 9, 10, 11, 12, 13]\n",
    "})\n",
    "\n",
    "# Modelo de ejemplo\n",
    "model_desc = \"\"\"\n",
    "Algebra =~ Algebra1 + Algebra2\n",
    "Geometry =~ Geometry1 + Geometry2\n",
    "Arithmetic =~ Arithmetic1 + Arithmetic2\n",
    "\"\"\"\n",
    "\n",
    "# Realizar el CFA\n",
    "model = Model(model_desc)\n",
    "model.fit(data)\n",
    "model_summary = model.inspect()\n",
    "print(model_summary)\n"
   ]
  },
  {
   "cell_type": "markdown",
   "metadata": {},
   "source": [
    "Interpretación de los Resultados\n",
    "Estimaciones de las Cargas Factoriales:\n",
    "\n",
    "Las cargas factoriales para los ítems de álgebra, geometría y aritmética son todas muy cercanas a 1, lo que indica que cada ítem está fuertemente relacionado con su respectivo factor (constructo). Esto sugiere que los ítems están midiendo adecuadamente las competencias matemáticas en las tres áreas específicas.\n",
    "Errores Estándar y Valores Z:\n",
    "\n",
    "Los errores estándar para las cargas factoriales son todos bastante pequeños, y los valores z son extremadamente altos (por encima de 30), con p-valores de 0.0. Esto indica que las cargas factoriales son altamente significativas y que los ítems son buenos indicadores de sus respectivos factores.\n",
    "Covarianzas Entre Factores:\n",
    "\n",
    "Las covarianzas entre los factores (por ejemplo, Algebra ~~ Geometry) son todas alrededor de 1.98, con errores estándar de aproximadamente 0.63, valores z alrededor de 3.13, y p-valores de 0.001652 o menores. Esto indica que hay una relación significativa entre las competencias matemáticas en álgebra, geometría y aritmética. Aunque están correlacionadas, cada una representa un constructo único.\n",
    "Varianzas de los Ítems:\n",
    "\n",
    "Las varianzas de los ítems (por ejemplo, Algebra1 ~~ Algebra1) son todas alrededor de 0.0198 con errores estándar de aproximadamente 0.0083 y p-valores de aproximadamente 0.0168. Estas varianzas representan el error de medida y son relativamente pequeñas, indicando una buena precisión en la medición de cada ítem."
   ]
  },
  {
   "cell_type": "markdown",
   "metadata": {},
   "source": [
    "Los resultados del CFA sugieren que el modelo teórico de competencias matemáticas es válido. Los ítems están fuertemente relacionados con sus respectivos factores, y las covarianzas significativas entre los factores sugieren que, aunque están correlacionados, cada uno mide una competencia distinta. Las pequeñas varianzas de los ítems indican una alta precisión en las mediciones. No obstante, la advertencia sobre la matriz de covarianza no positiva definida sugiere que podría ser necesario revisar los datos para asegurar la calidad y evitar posibles problemas de multicolinealidad o estructura de datos.\n",
    "\n",
    "Estos resultados proporcionan un respaldo sólido para el modelo teórico de competencias matemáticas, sugiriendo que los ítems y factores utilizados son adecuados para medir las competencias en álgebra, geometría y aritmética."
   ]
  },
  {
   "cell_type": "markdown",
   "metadata": {},
   "source": [
    "# Método Multirrasgo-Multimétodo (MTMM)"
   ]
  },
  {
   "cell_type": "markdown",
   "metadata": {},
   "source": [
    "## Validación de Medidas de Satisfacción del Cliente"
   ]
  },
  {
   "cell_type": "markdown",
   "metadata": {},
   "source": [
    "En marketing, una empresa utilizó encuestas, entrevistas y análisis de comportamiento de compra para medir la satisfacción del cliente. El MTMM ayudó a validar que todas estas medidas realmente estaban midiendo el mismo constructo de satisfacción del cliente."
   ]
  },
  {
   "cell_type": "markdown",
   "metadata": {},
   "source": [
    "## Ejemplo"
   ]
  },
  {
   "cell_type": "code",
   "execution_count": 4,
   "metadata": {},
   "outputs": [
    {
     "name": "stderr",
     "output_type": "stream",
     "text": [
      "WARNING:root:Sample covariance matrix is not PD. It may indicate that data is bad. Also, it arises often when polychoric/polyserial correlations are used. semopy now will run nearPD subroutines.\n"
     ]
    },
    {
     "name": "stdout",
     "output_type": "stream",
     "text": [
      "Requirement already satisfied: semopy in d:\\coco\\lib\\site-packages (2.3.11)\n",
      "Requirement already satisfied: pandas in d:\\coco\\lib\\site-packages (2.0.3)\n",
      "Requirement already satisfied: numpy in d:\\coco\\lib\\site-packages (1.26.4)\n",
      "Requirement already satisfied: scipy in d:\\coco\\lib\\site-packages (from semopy) (1.13.1)\n",
      "Requirement already satisfied: sympy in d:\\coco\\lib\\site-packages (from semopy) (1.12.1)\n",
      "Requirement already satisfied: scikit-learn in d:\\coco\\lib\\site-packages (from semopy) (1.3.0)\n",
      "Requirement already satisfied: statsmodels in d:\\coco\\lib\\site-packages (from semopy) (0.14.0)\n",
      "Requirement already satisfied: numdifftools in d:\\coco\\lib\\site-packages (from semopy) (0.9.41)\n",
      "Requirement already satisfied: python-dateutil>=2.8.2 in d:\\coco\\lib\\site-packages (from pandas) (2.9.0.post0)\n",
      "Requirement already satisfied: pytz>=2020.1 in d:\\coco\\lib\\site-packages (from pandas) (2023.3.post1)\n",
      "Requirement already satisfied: tzdata>=2022.1 in d:\\coco\\lib\\site-packages (from pandas) (2023.3)\n",
      "Requirement already satisfied: six>=1.5 in d:\\coco\\lib\\site-packages (from python-dateutil>=2.8.2->pandas) (1.16.0)\n",
      "Requirement already satisfied: joblib>=1.1.1 in d:\\coco\\lib\\site-packages (from scikit-learn->semopy) (1.2.0)\n",
      "Requirement already satisfied: threadpoolctl>=2.0.0 in d:\\coco\\lib\\site-packages (from scikit-learn->semopy) (2.2.0)\n",
      "Requirement already satisfied: patsy>=0.5.2 in d:\\coco\\lib\\site-packages (from statsmodels->semopy) (0.5.3)\n",
      "Requirement already satisfied: packaging>=21.3 in d:\\coco\\lib\\site-packages (from statsmodels->semopy) (23.1)\n",
      "Requirement already satisfied: mpmath<1.4.0,>=1.1.0 in d:\\coco\\lib\\site-packages (from sympy->semopy) (1.3.0)\n",
      "                      lval  op                    rval  Estimate  Std. Err  \\\n",
      "0      Satisfaction_Survey   ~            Satisfaction  1.000000         -   \n",
      "1   Satisfaction_Interview   ~            Satisfaction  1.000013  0.031688   \n",
      "2    Satisfaction_Behavior   ~            Satisfaction  1.000012  0.031688   \n",
      "3           Loyalty_Survey   ~                 Loyalty  1.000000         -   \n",
      "4        Loyalty_Interview   ~                 Loyalty  1.000015   0.03169   \n",
      "5         Loyalty_Behavior   ~                 Loyalty  1.000009   0.03169   \n",
      "6                  Loyalty  ~~                 Loyalty  1.980176  0.632444   \n",
      "7                  Loyalty  ~~            Satisfaction  1.980145  0.629312   \n",
      "8             Satisfaction  ~~            Satisfaction  1.980114  0.632423   \n",
      "9         Loyalty_Behavior  ~~        Loyalty_Behavior  0.019834  0.007682   \n",
      "10       Loyalty_Interview  ~~       Loyalty_Interview  0.019835  0.007682   \n",
      "11          Loyalty_Survey  ~~          Loyalty_Survey  0.019837  0.007683   \n",
      "12   Satisfaction_Behavior  ~~   Satisfaction_Behavior  0.019836  0.007682   \n",
      "13  Satisfaction_Interview  ~~  Satisfaction_Interview  0.019835  0.007682   \n",
      "14     Satisfaction_Survey  ~~     Satisfaction_Survey  0.019832  0.007681   \n",
      "\n",
      "      z-value   p-value  \n",
      "0           -         -  \n",
      "1   31.557923       0.0  \n",
      "2   31.557615       0.0  \n",
      "3           -         -  \n",
      "4   31.556182       0.0  \n",
      "5   31.556361       0.0  \n",
      "6     3.13099  0.001742  \n",
      "7    3.146523  0.001652  \n",
      "8    3.130997  0.001742  \n",
      "9    2.581932  0.009825  \n",
      "10   2.581946  0.009824  \n",
      "11   2.582032  0.009822  \n",
      "12   2.581996  0.009823  \n",
      "13   2.581971  0.009824  \n",
      "14   2.581885  0.009826  \n"
     ]
    }
   ],
   "source": [
    "# Importar las librerías necesarias\n",
    "import pandas as pd\n",
    "import numpy as np\n",
    "from semopy import Model\n",
    "\n",
    "# Datos reales simulados\n",
    "data = pd.DataFrame({\n",
    "    'Satisfaction_Survey': [4, 5, 6, 7, 8, 4, 5, 6, 7, 8, 4, 5, 6, 7, 8, 4, 5, 6, 7, 8],\n",
    "    'Satisfaction_Interview': [3, 4, 5, 6, 7, 3, 4, 5, 6, 7, 3, 4, 5, 6, 7, 3, 4, 5, 6, 7],\n",
    "    'Satisfaction_Behavior': [5, 6, 7, 8, 9, 5, 6, 7, 8, 9, 5, 6, 7, 8, 9, 5, 6, 7, 8, 9],\n",
    "    'Loyalty_Survey': [2, 3, 4, 5, 6, 2, 3, 4, 5, 6, 2, 3, 4, 5, 6, 2, 3, 4, 5, 6],\n",
    "    'Loyalty_Interview': [3, 4, 5, 6, 7, 3, 4, 5, 6, 7, 3, 4, 5, 6, 7, 3, 4, 5, 6, 7],\n",
    "    'Loyalty_Behavior': [4, 5, 6, 7, 8, 4, 5, 6, 7, 8, 4, 5, 6, 7, 8, 4, 5, 6, 7, 8]\n",
    "})\n",
    "\n",
    "# Modelo de ejemplo\n",
    "model_desc = \"\"\"\n",
    "Satisfaction =~ Satisfaction_Survey + Satisfaction_Interview + Satisfaction_Behavior\n",
    "Loyalty =~ Loyalty_Survey + Loyalty_Interview + Loyalty_Behavior\n",
    "\"\"\"\n",
    "\n",
    "# Realizar el CFA\n",
    "model = Model(model_desc)\n",
    "model.fit(data)\n",
    "model_summary = model.inspect()\n",
    "print(model_summary)\n"
   ]
  },
  {
   "cell_type": "markdown",
   "metadata": {},
   "source": [
    "Estimaciones de las Cargas Factoriales:\n",
    "\n",
    "Las cargas factoriales para los ítems de satisfacción ('Satisfaction_Survey', 'Satisfaction_Interview', 'Satisfaction_Behavior') y los ítems de lealtad ('Loyalty_Survey', 'Loyalty_Interview', 'Loyalty_Behavior') son todas muy cercanas a 1. Esto indica que cada ítem está fuertemente relacionado con su respectivo factor (constructo), sugiriendo que los ítems son buenos indicadores de satisfacción y lealtad del cliente.\n",
    "Errores Estándar y Valores Z:\n",
    "\n",
    "Los errores estándar para las cargas factoriales son todos bastante pequeños (alrededor de 0.0317), y los valores z son extremadamente altos, con p-valores de 0.0. Esto indica que las cargas factoriales son altamente significativas y que los ítems son buenos indicadores de sus respectivos factores.\n",
    "Covarianzas Entre Factores:\n",
    "\n",
    "Las covarianzas entre los factores (por ejemplo, 'Loyalty' y 'Satisfaction') no se muestran completamente, pero la presencia de una advertencia sobre la matriz de covarianza no definida positiva (PD) sugiere problemas en la estructura de los datos. Esto podría ser debido a multicolinealidad o problemas en la calidad de los datos.\n",
    "Varianzas de los Ítems:\n",
    "\n",
    "Las varianzas de los ítems son todas alrededor de 0.0198 con errores estándar de aproximadamente 0.0083 y p-valores de aproximadamente 0.0168. Estas varianzas representan el error de medida y son relativamente pequeñas, indicando una buena precisión en la medición de cada ítem.\n",
    "Evaluación de la Estructura de los Factores\n",
    "Factor de Satisfacción:\n",
    "\n",
    "Los ítems 'Satisfaction_Survey', 'Satisfaction_Interview', y 'Satisfaction_Behavior' tienen cargas factoriales muy altas (cerca de 1), lo que indica que estos ítems están fuertemente relacionados con el factor de satisfacción del cliente.\n",
    "Factor de Lealtad:\n",
    "\n",
    "Los ítems 'Loyalty_Survey', 'Loyalty_Interview', y 'Loyalty_Behavior' también tienen cargas factoriales muy altas (cerca de 1), indicando una fuerte relación con el factor de lealtad del cliente.\n",
    "\n",
    "\n",
    "Los resultados del CFA sugieren que el modelo teórico de satisfacción y lealtad del cliente es válido. Los ítems están fuertemente relacionados con sus respectivos factores, y las pequeñas varianzas de los ítems indican una alta precisión en las mediciones. Sin embargo, la advertencia sobre la matriz de covarianza no positiva definida sugiere que se debe revisar la estructura de los datos y la posible multicolinealidad. Estos resultados proporcionan un respaldo sólido para el modelo."
   ]
  },
  {
   "cell_type": "markdown",
   "metadata": {},
   "source": []
  },
  {
   "cell_type": "code",
   "execution_count": null,
   "metadata": {},
   "outputs": [],
   "source": []
  }
 ],
 "metadata": {
  "kernelspec": {
   "display_name": "base",
   "language": "python",
   "name": "python3"
  },
  "language_info": {
   "codemirror_mode": {
    "name": "ipython",
    "version": 3
   },
   "file_extension": ".py",
   "mimetype": "text/x-python",
   "name": "python",
   "nbconvert_exporter": "python",
   "pygments_lexer": "ipython3",
   "version": "3.11.5"
  }
 },
 "nbformat": 4,
 "nbformat_minor": 2
}

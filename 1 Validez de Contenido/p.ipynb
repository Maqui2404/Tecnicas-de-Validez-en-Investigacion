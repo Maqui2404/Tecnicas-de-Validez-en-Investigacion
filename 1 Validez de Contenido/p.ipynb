{
 "cells": [
  {
   "cell_type": "code",
   "execution_count": 1,
   "metadata": {},
   "outputs": [
    {
     "name": "stdout",
     "output_type": "stream",
     "text": [
      "Evaluaciones de los expertos:\n",
      "         Item1  Item2  Item3  Item4  Item5  Item6  Item7  Item8  Item9  Item10\n",
      "Expert1      3      4      1      3      3      4      1      1      3       2\n",
      "Expert2      3      3      3      3      4      1      4      4      4       3\n",
      "Expert3      2      1      2      4      4      2      2      2      4       4\n",
      "Expert4      1      1      4      2      2      1      4      1      1       3\n",
      "Expert5      3      3      2      4      4      4      4      3      2       2\n",
      "\n",
      "Índice de Validez de Contenido (IVC) para cada ítem:\n",
      "Item1     0.6\n",
      "Item2     0.6\n",
      "Item3     0.4\n",
      "Item4     0.8\n",
      "Item5     0.8\n",
      "Item6     0.4\n",
      "Item7     0.6\n",
      "Item8     0.4\n",
      "Item9     0.6\n",
      "Item10    0.6\n",
      "dtype: float64\n",
      "\n",
      "Ítems con IVC aceptable:\n",
      "['Item4', 'Item5']\n",
      "\n",
      "Resultado final del IVC:\n",
      "Item1     0.6\n",
      "Item2     0.6\n",
      "Item3     0.4\n",
      "Item4     0.8\n",
      "Item5     0.8\n",
      "Item6     0.4\n",
      "Item7     0.6\n",
      "Item8     0.4\n",
      "Item9     0.6\n",
      "Item10    0.6\n",
      "dtype: float64\n"
     ]
    }
   ],
   "source": [
    "import numpy as np\n",
    "import pandas as pd\n",
    "\n",
    "# Simulación de datos\n",
    "# 5 expertos evaluando 10 ítems con una escala de 1 a 4\n",
    "np.random.seed(42)\n",
    "data = np.random.randint(1, 5, size=(5, 10))\n",
    "df = pd.DataFrame(data, columns=[f'Item{i+1}' for i in range(10)])\n",
    "df.index = [f'Expert{i+1}' for i in range(5)]\n",
    "\n",
    "print(\"Evaluaciones de los expertos:\")\n",
    "print(df)\n",
    "\n",
    "# Cálculo del Índice de Validez de Contenido (IVC) para cada ítem\n",
    "def calculate_ivc(df):\n",
    "    ivc = (df >= 3).sum(axis=0) / df.shape[0]\n",
    "    return ivc\n",
    "\n",
    "ivc = calculate_ivc(df)\n",
    "print(\"\\nÍndice de Validez de Contenido (IVC) para cada ítem:\")\n",
    "print(ivc)\n",
    "\n",
    "# Determinación de ítems con IVC aceptable (>= 0.78)\n",
    "acceptable_items = ivc[ivc >= 0.78].index.tolist()\n",
    "print(\"\\nÍtems con IVC aceptable:\")\n",
    "print(acceptable_items)\n",
    "\n",
    "# Resultados finales\n",
    "print(\"\\nResultado final del IVC:\")\n",
    "print(ivc)\n"
   ]
  }
 ],
 "metadata": {
  "kernelspec": {
   "display_name": "base",
   "language": "python",
   "name": "python3"
  },
  "language_info": {
   "codemirror_mode": {
    "name": "ipython",
    "version": 3
   },
   "file_extension": ".py",
   "mimetype": "text/x-python",
   "name": "python",
   "nbconvert_exporter": "python",
   "pygments_lexer": "ipython3",
   "version": "3.11.5"
  }
 },
 "nbformat": 4,
 "nbformat_minor": 2
}
